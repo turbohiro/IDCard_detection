{
 "cells": [
  {
   "cell_type": "code",
   "execution_count": 1,
   "metadata": {},
   "outputs": [
    {
     "name": "stdout",
     "output_type": "stream",
     "text": [
      "INFO:tensorflow:Restoring parameters from /data/jupyter/libin713/sample_IDCard/VGG/resnet_Idcard.model\n"
     ]
    }
   ],
   "source": [
    "import numpy as np\n",
    "import matplotlib.pyplot as plt\n",
    "import os\n",
    "import cv2\n",
    "import glob\n",
    "import seaborn as sns\n",
    "from PIL import Image\n",
    "import glob\n",
    "import tensorflow as tf\n",
    "os.environ['CUDA_VISIBLE_DEVICES']='1'\n",
    "\n",
    "dataDir = '/data/jupyter/libin713/sample_IDCard'\n",
    "\n",
    "import tflearn\n",
    "n = 5\n",
    "# Real-time data preprocessing\n",
    "img_prep = tflearn.ImagePreprocessing()\n",
    "img_prep.add_featurewise_zero_center(per_channel=True)\n",
    "\n",
    "# Real-time data augmentation\n",
    "img_aug = tflearn.ImageAugmentation()\n",
    "img_aug.add_random_flip_leftright()\n",
    "img_aug.add_random_crop([600, 600], padding=4)\n",
    "\n",
    "# Building Residual Network\n",
    "net = tflearn.input_data(shape=[None, 600, 600, 3],\n",
    "                         data_preprocessing=img_prep,\n",
    "                         data_augmentation=img_aug)\n",
    "net = tflearn.conv_2d(net, 16, 3, regularizer='L2', weight_decay=0.0001)\n",
    "net = tflearn.residual_block(net, n, 16)\n",
    "net = tflearn.residual_block(net, 1, 32, downsample=True)\n",
    "net = tflearn.residual_block(net, n-1, 32)\n",
    "net = tflearn.dropout(net, 0.5) \n",
    "net = tflearn.residual_block(net, 1, 64, downsample=True)\n",
    "net = tflearn.residual_block(net, n-1, 64)\n",
    "net = tflearn.batch_normalization(net)\n",
    "net = tflearn.activation(net, 'relu')\n",
    "net = tflearn.global_avg_pool(net)\n",
    "# Regression\n",
    "net = tflearn.fully_connected(net, 3, activation='softmax')\n",
    "mom = tflearn.Momentum(0.001, lr_decay=0.001, decay_step=32000, staircase=True)\n",
    "net = tflearn.regression(net, optimizer=mom,\n",
    "                         loss='categorical_crossentropy')\n",
    "# Training\n",
    "model = tflearn.DNN(net, checkpoint_path='resnet_Idcard.model',\n",
    "                    max_checkpoints=10, tensorboard_verbose=0,\n",
    "                    clip_gradients=0.)\n",
    "\n",
    "model.load(\"resnet_Idcard.model\")"
   ]
  },
  {
   "cell_type": "code",
   "execution_count": 21,
   "metadata": {},
   "outputs": [
    {
     "name": "stdout",
     "output_type": "stream",
     "text": [
      "[[0. 1. 0.]]\n"
     ]
    }
   ],
   "source": [
    "from PIL import Image\n",
    "#img_path = os.listdir('/data/jupyter/libin713/sample_IDCard/test1')[0:500]\n",
    "img_path = ['IMG_0342.JPG']\n",
    "#img_path = ['test1.jpg','test2.jpg','test3.jpg','test4.jpg',]\n",
    "for i in img_path:\n",
    "    #img = Image.open('/data/jupyter/libin713/sample_IDCard/test/'+i)\n",
    "    img = Image.open(i)\n",
    "    img = img.resize((600,600))\n",
    "    img = np.asarray(img,dtype = \"float32\")\n",
    "    img = img.reshape([-1,600,600,3])\n",
    "    print(model.predict(img))"
   ]
  },
  {
   "cell_type": "code",
   "execution_count": 3,
   "metadata": {},
   "outputs": [
    {
     "name": "stdout",
     "output_type": "stream",
     "text": [
      "(600, 600, 3)\n",
      "(1, 600, 600, 3)\n"
     ]
    }
   ],
   "source": [
    "print(img.shape)\n",
    "img = img.reshape([-1,600,600,3])\n",
    "print(img.shape)"
   ]
  },
  {
   "cell_type": "code",
   "execution_count": 4,
   "metadata": {},
   "outputs": [
    {
     "data": {
      "text/plain": [
       "array([[0., 0., 1.]], dtype=float32)"
      ]
     },
     "execution_count": 4,
     "metadata": {},
     "output_type": "execute_result"
    }
   ],
   "source": [
    "model.predict(img)"
   ]
  },
  {
   "cell_type": "code",
   "execution_count": null,
   "metadata": {},
   "outputs": [],
   "source": []
  }
 ],
 "metadata": {
  "kernelspec": {
   "display_name": "Python 3",
   "language": "python",
   "name": "python3"
  },
  "language_info": {
   "codemirror_mode": {
    "name": "ipython",
    "version": 3
   },
   "file_extension": ".py",
   "mimetype": "text/x-python",
   "name": "python",
   "nbconvert_exporter": "python",
   "pygments_lexer": "ipython3",
   "version": "3.6.2"
  }
 },
 "nbformat": 4,
 "nbformat_minor": 2
}
